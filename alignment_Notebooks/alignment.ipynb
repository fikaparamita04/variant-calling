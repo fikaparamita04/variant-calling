{
 "cells": [
  {
   "cell_type": "markdown",
   "metadata": {},
   "source": [
    "# Performing Read Alignment\n",
    "\n",
    "Here we will use the BWA aligner to align a small set of Illumina sequencing data to the _human_ reference genome. \n",
    "\n",
    "First, check you are in the correct directory."
   ]
  },
  {
   "cell_type": "code",
   "execution_count": null,
   "metadata": {},
   "outputs": [],
   "source": [
    "pwd"
   ]
  },
  {
   "cell_type": "markdown",
   "metadata": {},
   "source": [
    "It should display something like:\n",
    "\n",
    "  ``NGScourse_22/alignment``"
   ]
  },
  {
   "cell_type": "markdown",
   "metadata": {},
   "source": [
    "## Viewing the reference genome\n",
    "\n",
    "view the `ref` directory that contains the fasta files of the reference genomes:"
   ]
  },
  {
   "cell_type": "code",
   "execution_count": null,
   "metadata": {},
   "outputs": [],
   "source": [
    "ls /home/ref"
   ]
  },
  {
   "cell_type": "markdown",
   "metadata": {},
   "source": [
    "Fasta files (.fa) are used to store raw sequencing information before aligning data. Human whole genome references is contained in the file Homo_sapiens.GRCh38.dna.primary_assembly.fa.gz\n",
    "\n",
    "View the file with zless (we use zless instead of less because the file is compressed):"
   ]
  },
  {
   "cell_type": "code",
   "execution_count": null,
   "metadata": {},
   "outputs": [],
   "source": [
    "zless /home/ref/Homo_sapiens.GRCh38.dna.primary_assembly.fa"
   ]
  },
  {
   "cell_type": "code",
   "execution_count": null,
   "metadata": {},
   "outputs": [],
   "source": []
  },
  {
   "cell_type": "markdown",
   "metadata": {},
   "source": [
    "Similar to a BAM file, to allow fast retrieval of data, an index file is often required. You should check for the presencen of fasta indexes for the genome in the 'ref' directory:\n",
    "\n",
    "``Homo_sapiens.GRCh38.dna.primary_assembly.fa.amb ... Homo_sapiens.GRCh38.dna.primary_assembly.fa.sa``\n",
    "\n",
    "These are created by BWA: suffixtrees, bwt transform etc etc.\n",
    "    \n",
    "If these index files don’t exist, then you can run the indexing with the command\n",
    "\n",
    "``bwa index Homo_sapiens.GRCh38.dna.primary_assembly.fa`` \n",
    "    \n",
    "Beware – this indexing process can take 3-5 minutes so please only run it if the index files do not exist!"
   ]
  },
  {
   "cell_type": "markdown",
   "metadata": {},
   "source": [
    "## Align the data with bwa\n",
    "\n",
    "Go to the `data/` directory - you can use this command: "
   ]
  },
  {
   "cell_type": "code",
   "execution_count": null,
   "metadata": {},
   "outputs": [],
   "source": [
    "cd data/"
   ]
  },
  {
   "cell_type": "markdown",
   "metadata": {},
   "source": [
    "Use the `bwa mem` command to align the fastq files to the human reference genome. By default bwa outputs SAM format directly to the standard output (in this case your terminal window), therefore you will have to redirect the result into a SAM file."
   ]
  },
  {
   "cell_type": "code",
   "execution_count": null,
   "metadata": {},
   "outputs": [],
   "source": [
    "bwa mem /home/ref/Homo_sapiens.GRCh38.dna.primary_assembly.fa SRR13882963_1P.fastq SRR13882963_2P.fastq > SRR13882963.sam"
   ]
  },
  {
   "cell_type": "markdown",
   "metadata": {},
   "source": [
    "This may take a few minutes, please be patient."
   ]
  },
  {
   "cell_type": "markdown",
   "metadata": {},
   "source": [
    "## Convert a SAM file to a BAM file\n",
    "\n",
    "Now use samtools to convert the SAM file `SRR13882963.sam` created in the previous step into a BAM file called `SRR13882963.bam`."
   ]
  },
  {
   "cell_type": "code",
   "execution_count": null,
   "metadata": {},
   "outputs": [],
   "source": [
    "samtools view -O BAM -o SRR13882963.bam SRR13882963.sam"
   ]
  },
  {
   "cell_type": "markdown",
   "metadata": {},
   "source": [
    "__Q1: How much space is saved by using a BAM file instead of a SAM file?__"
   ]
  },
  {
   "cell_type": "code",
   "execution_count": null,
   "metadata": {},
   "outputs": [],
   "source": []
  },
  {
   "cell_type": "markdown",
   "metadata": {},
   "source": [
    "## Sort and index the BAM file\n",
    "\n",
    "The BAM files produced by BWA are sorted by read name (same order as the original fastq files). However, most viewing and variant calling software require the BAM files to be sorted by reference coordinate position and indexed for rapid retrieval. Therefore, use ‘samtools sort’ to produce a new BAM file called `SRR13882963.sorted.bam` that is sorted by position."
   ]
  },
  {
   "cell_type": "code",
   "execution_count": null,
   "metadata": {},
   "outputs": [],
   "source": [
    "samtools sort -T temp -O bam -o SRR13882963.sorted.bam SRR13882963.bam"
   ]
  },
  {
   "cell_type": "markdown",
   "metadata": {},
   "source": [
    "Finally index the sorted BAM file using ‘samtools index’ command. \n",
    "\n",
    "__Note:__ indexing a BAM file is also a good way to check that the BAM file has not been truncated (e.g. your disk becomes full when writing the BAM file). At the end of every BAM file, a special end of file (EOF) marker is written. The Samtools index command will first check for this and produce an error message if it is not found."
   ]
  },
  {
   "cell_type": "code",
   "execution_count": null,
   "metadata": {},
   "outputs": [],
   "source": [
    "samtools index SRR13882963.sorted.bam"
   ]
  },
  {
   "cell_type": "markdown",
   "metadata": {},
   "source": [
    "## Unix pipes to combine the commands together\n",
    "\n",
    "To produce the sorted BAM file above we had to carry out several separate commands and produce intermediate files. The Unix pipe command allows you to feed the output of one command into the next command.\n",
    "\n",
    "You can combine all of these commands together using unix pipes, and do all of this data processing together and avoid writing intermediate files. To do this type:"
   ]
  },
  {
   "cell_type": "code",
   "execution_count": null,
   "metadata": {},
   "outputs": [],
   "source": [
    "bwa mem /home/ref/Homo_sapiens.GRCh38.dna.primary_assembly.fa SRR13882963_1P.fastq SRR13882963_2P.fastq | samtools view -O BAM - | samtools sort -T temp -O bam -o SRR13882963_2.sorted.bam -"
   ]
  },
  {
   "cell_type": "markdown",
   "metadata": {},
   "source": [
    "Now index the BAM file:"
   ]
  },
  {
   "cell_type": "code",
   "execution_count": null,
   "metadata": {},
   "outputs": [],
   "source": [
    "samtools index SRR13882963_2.sorted.bam"
   ]
  },
  {
   "cell_type": "markdown",
   "metadata": {},
   "source": [
    "**Note: When the symbol `-` is used above, Unix will automatically replace `-` with the output produced by the preceeding command (i.e. the command before the `|` symbol).**"
   ]
  }
 ],
 "metadata": {
  "kernelspec": {
   "display_name": "Python 3",
   "language": "python",
   "name": "python3"
  },
  "language_info": {
   "codemirror_mode": {
    "name": "ipython",
    "version": 3
   },
   "file_extension": ".py",
   "mimetype": "text/x-python",
   "name": "python",
   "nbconvert_exporter": "python",
   "pygments_lexer": "ipython3",
   "version": "3.8.5"
  }
 },
 "nbformat": 4,
 "nbformat_minor": 4
}
