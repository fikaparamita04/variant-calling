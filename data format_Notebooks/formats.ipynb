{
 "cells": [
  {
   "cell_type": "markdown",
   "metadata": {},
   "source": [
    "# Data formats for NGS data\n",
    "Here we will take a closer look at some of the most common NGS data formats. First, check you are in the correct directory."
   ]
  },
  {
   "cell_type": "code",
   "execution_count": null,
   "metadata": {},
   "outputs": [],
   "source": [
    "pwd"
   ]
  },
  {
   "cell_type": "markdown",
   "metadata": {},
   "source": [
    "It should display something like:\n",
    "\n",
    "  `NGScourse_22/data_formats/`"
   ]
  },
  {
   "cell_type": "markdown",
   "metadata": {},
   "source": [
    "## FASTA\n",
    "The FASTA format is used to store both nucleotide data and protein sequences. Each sequence in a FASTA file is represented by two parts, a header line and the actual sequence. The header always starts with the symbol \">\" and is followed by information about the sequence, such as a unique identifier. The following lines show two sequences represented in FASTA format:\n",
    "\n",
    "```\n",
    ">Sequence_1\n",
    "CTTGACGACTTGAAAAATGACGAAATCACTAAAAAACGTGAAAAATGAGAAATG\n",
    "AAAATGACGAAATCACTAAAAAACGTGACGACTTGAAAAATGACCAC\n",
    ">Sequence_2\n",
    "CTTGAGACGAAATCACTAAAAAACGTGACGACTTGAAGTGAAAAATGAGAAATG\n",
    "AAATCATGACGACTTGAAGTGAAAAAGTGAAAAATGAGAAATGAACGTGACGAC\n",
    "AAAATGACGAAATCATGACGACTTGAAGTGAAAAATAAATGACC\n",
    "```\n",
    "### Exercises\n",
    "__Q1: How many sequences are there in the fasta file data/ls_orchid.fasta? (Hint: is there a grep option you can use?)__"
   ]
  },
  {
   "cell_type": "code",
   "execution_count": null,
   "metadata": {},
   "outputs": [],
   "source": []
  },
  {
   "cell_type": "markdown",
   "metadata": {},
   "source": [
    "## FASTQ\n",
    "FASTQ is a data format for sequencing reads. It is an extension to the FASTA file format, and includes a quality score for each base. Have a look at the example below, containing two reads:\n",
    "  \n",
    "```\n",
    "@ERR007731.739 IL16_2979:6:1:9:1684/1\n",
    "CTTGACGACTTGAAAAATGACGAAATCACTAAAAAACGTGAAAAATGAGAAATG\n",
    "+\n",
    "BBCBCBBBBBBBABBABBBBBBBABBBBBBBBBBBBBBABAAAABBBBB=@>B\n",
    "@ERR007731.740 IL16_2979:6:1:9:1419/1\n",
    "AAAAAAAAAGATGTCATCAGCACATCAGAAAAGAAGGCAACTTTAAAACTTTTC\n",
    "+\n",
    "BBABBBABABAABABABBABBBAAA>@B@BBAA@4AAA>.>BAA@779:AAA@A\n",
    "```\n",
    "   \n",
    "We can see that for each read we get four lines:\n",
    "\n",
    "   1. The read metadata, such as the read ID. Starts with `@` and, for paired-end Illumina reads, is terminated with /1 or /2 to show that the read is the member of a pair. \n",
    "   2. The read\n",
    "   3. Starts with `+` and optionally contains the ID again\n",
    "   4. The per base [Phred quality score](https://en.wikipedia.org/wiki/Phred_quality_score)\n",
    "\n",
    "The quality scores range (in theory) from 1 to 94 and are encoded as [ASCII characters](https://en.wikipedia.org/wiki/ASCII). The first 32 ASCII codes are reserved for control characters which are not printable, and the 33rd is reserved for space. Neither of these can be used in the quality string, so we need to subtract 33 from whatever the value of the quality character is. For example, the ASCII code of “A” is 65, so the corresponding quality is:\n",
    "   \n",
    "```   \n",
    "Q = 65 - 33 = 32\n",
    "```\n",
    "   \n",
    "The Phred quality score `Q` relates to the base-calling error probability `P` as\n",
    "   \n",
    "&nbsp;&nbsp;&nbsp;&nbsp;&nbsp;&nbsp; P = 10<sup>-Q/10</sup>   \n",
    "   \n",
    "The Phred quality score is a measure of the quality of base calls. For example, a base assigned with a Phred quality score of 30 tells us that there is a 1 in 1000 chance that this base was called incorrectly.\n",
    "\n",
    "|Phred Quality Score|Probability of incorrect base call|Base call accuracy|\n",
    "|---|---|---|\n",
    "|10|1 in 10|90%|\n",
    "|20|1 in 100|99%|\n",
    "|30|1 in 1000|99.9%|\n",
    "|40|1 in 10,000|99.99%|\n",
    "|50|1 in 100,000|99.999%|\n",
    "|60|1 in 1,000,000|99.9999%|"
   ]
  },
  {
   "cell_type": "markdown",
   "metadata": {},
   "source": [
    "### Exercises\n",
    "__Q2: How many reads are there in the file data/example.fastq? (Hint: remember that `@` is a possible quality score. Is there something else in the header that is unique?)__"
   ]
  },
  {
   "cell_type": "code",
   "execution_count": null,
   "metadata": {},
   "outputs": [],
   "source": []
  },
  {
   "cell_type": "markdown",
   "metadata": {},
   "source": [
    "## SAM\n",
    "[SAM (Sequence Alignment/Map)](https://samtools.github.io/hts-specs/SAMv1.pdf) format is a unified format for storing read alignments to a reference genome. It is a standard format for storing NGS sequencing reads, base qualities, associated meta-data and alignments of the data to a reference genome. If no reference genome is available, the data can also be stored unaligned.\n",
    "\n",
    "The files consist of a header section (optional) and an alignment section. The alignment section contains one record (a single DNA fragment alignment) per line describing the alignment between fragment and reference. Each record has 11 fixed columns and optional key:type:value tuples. Open the SAM/BAM file specification document [https://samtools.github.io/hts-specs/SAMv1.pdf](https://samtools.github.io/hts-specs/SAMv1.pdf) either in a web browser or you can find a copy in the QC directory as you may need to refer to it throughout this tutorial. \n",
    "\n",
    "Now let us have a closer look at the different parts of the SAM/BAM format. \n",
    "\n",
    "### Header Section\n",
    "\n",
    "The header section of a SAM file looks like:\n",
    "\n",
    "```\n",
    "@HD\tVN:1.0\tSO:coordinate\n",
    "@SQ\tSN:test_ref\tLN:17637\n",
    "@RG ID:ERR003612 PL:ILLUMINA LB:g1k-sc-NA20538-TOS-1 PI:2000 DS:SRP000540 SM:NA20538 CN:SC\n",
    "```\n",
    "\n",
    "Each line in the SAM header begins with an `@`, followed by a two-letter header record type code as defined in the [SAM/BAM format specification document](https://samtools.github.io/hts-specs/SAMv1.pdf). Each record type can contain meta-data captured as a series of key-value pairs in the format of ‘TAG:VALUE’.\n",
    "\n",
    "#### Read groups\n",
    "One useful record type is RG which can be used to describe each lane of sequencing. The RG code can be used to capture extra meta-data for the sequencing lane. Some common RG TAGs are:\n",
    "\n",
    "* ID: SRR/ERR number\n",
    "* PL: Sequencing platform\n",
    "* PU: Run name\n",
    "* LB: Library name\n",
    "* PI: Insert fragment size\n",
    "* SM: Individual/Sample\n",
    "* CN: Sequencing centre\n",
    "\n",
    "While most of these are self explanitory, insert fragment size may occasionally be negative. This simply indicates that the reads found are overlapping while its size is less than 2 x read length."
   ]
  },
  {
   "cell_type": "markdown",
   "metadata": {},
   "source": [
    "### Exercises\n",
    "\n",
    "Look at the following line from the header of a SAM file and answering the questions that follow: \n",
    "\n",
    "```\n",
    "@RG ID:ERR003612 PL:ILLUMINA LB:g1k-sc-NA20538-TOS-1 PI:2000 DS:SRP000540 SM:NA20538 CN:SC\n",
    "```\n",
    "   \n",
    "__Q3: What does RG stand for?__"
   ]
  },
  {
   "cell_type": "code",
   "execution_count": null,
   "metadata": {},
   "outputs": [],
   "source": []
  },
  {
   "cell_type": "markdown",
   "metadata": {},
   "source": [
    "__Q4: What is the sequencing platform?__"
   ]
  },
  {
   "cell_type": "code",
   "execution_count": null,
   "metadata": {},
   "outputs": [],
   "source": []
  },
  {
   "cell_type": "markdown",
   "metadata": {},
   "source": [
    "__Q5: What is the sequencing centre?__"
   ]
  },
  {
   "cell_type": "code",
   "execution_count": null,
   "metadata": {},
   "outputs": [],
   "source": []
  },
  {
   "cell_type": "markdown",
   "metadata": {},
   "source": [
    "__Q6: What is the lane identifier?__"
   ]
  },
  {
   "cell_type": "code",
   "execution_count": null,
   "metadata": {},
   "outputs": [],
   "source": []
  },
  {
   "cell_type": "markdown",
   "metadata": {},
   "source": [
    "__Q7: What is the expected fragment insert size?__  "
   ]
  },
  {
   "cell_type": "code",
   "execution_count": null,
   "metadata": {},
   "outputs": [],
   "source": []
  },
  {
   "cell_type": "markdown",
   "metadata": {},
   "source": [
    "### Alignment Section\n",
    "The alignment section of SAM files contains one line per read alignment, an example is\n",
    "\n",
    "``ERR005816.1408831\t163\tChr1\t19999970\t23\t40M5D30M2I28M\t=\t20000147\t213 GGTGGGTGGATCACCTGAGATCGGGAGTTTGAGACTAGGTGG...   \n",
    "<=@A@??@=@A@A>@BAA@ABA:>@<>=BBB9@@2B3<=@A@...``   \n",
    "\n",
    "Each of the lines are composed of multiple columns listed below. The first 11 columns are mandatory.\n",
    "\n",
    "1. QNAME: Query NAME of the read or the read pair i.e. DNA sequence\n",
    "2. FLAG: Bitwise FLAG (pairing, strand, mate strand, etc.)\n",
    "3. RNAME: Reference sequence NAME\n",
    "4. POS: 1-Based leftmost POSition of clipped alignment\n",
    "5. MAPQ: MAPping Quality (Phred-scaled)\n",
    "6. CIGAR: Extended CIGAR string (operations: MIDNSHPX=)\n",
    "7. MRNM: Mate Reference NaMe (’=’ if same as RNAME)\n",
    "8. MPOS: 1-Based leftmost Mate POSition\n",
    "9. ISIZE: Inferred Insert SIZE\n",
    "10. SEQ: Query SEQuence on the same strand as the reference\n",
    "11. QUAL: Query QUALity (ASCII-33=Phred base quality)\n",
    "12. OTHER: Optional fields\n",
    "\n",
    "The image below provides a visual guide to some of the columns of the SAM format."
   ]
  },
  {
   "cell_type": "markdown",
   "metadata": {},
   "source": [
    "![SAM format](img/SAM_BAM.png)"
   ]
  },
  {
   "cell_type": "markdown",
   "metadata": {},
   "source": [
    "### CIGAR string\n",
    "Column 6 of the alignment is the CIGAR string for that alignment. The CIGAR string provides a compact representation of sequence alignment. Have a look at the table below. It contains the meaning of all different symbols of a CIGAR string:\n",
    "\n",
    "|Symbol |Meaning                                             |\n",
    "|---    |---                                                 |\n",
    "|M      |alignment match or mismatch                         |\n",
    "|=      |sequence match                                      |\n",
    "|X      |sequence mismatch                                   |\n",
    "|I      |insertion into the read (sample sequenced)          |\n",
    "|D      |deletion from the read (sample sequenced)           |\n",
    "|S      |soft clipping (clipped sequences present in SEQ)    |\n",
    "|H      |hard clipping (clipped sequences NOT present in SEQ)|\n",
    "|N      |skipped region from the reference                   |\n",
    "|P      |padding (silent deletion from padded reference)     |\n",
    "\n",
    "Below are two examples describing the CIGAR string in more detail.\n",
    "  \n",
    "__Example 1:__  \n",
    "Ref:&nbsp;&nbsp;&nbsp;&nbsp;&nbsp;ACGTACGTACGTACGT  \n",
    "Read:&nbsp;&nbsp;ACGT-&nbsp;-&nbsp;-&nbsp;-&nbsp;ACGTACGA  \n",
    "Cigar: 4M 4D 8M  \n",
    "\n",
    "The first four bases in the read are the same as in the reference, so we can represent these as 4M in the CIGAR string. Next comes 4 deletions, represented by 4D, followed by 7 alignment matches and one alignment mismatch, represented by 8M. Note that the mismatch at position 16 is included in 8M. This is because it still aligns to the reference.\n",
    "\n",
    "__Example 2:__  \n",
    "Ref:&nbsp;&nbsp;&nbsp;&nbsp;&nbsp;ACTCAGTG-&nbsp;-&nbsp;GT  \n",
    "Read:&nbsp;&nbsp;ACGCA-&nbsp;TGCAGTtagacgt  \n",
    "Cigar: 5M 1D 2M 2I 2M 7S  \n",
    "\n",
    "Here we start off with 5 alignment matches and mismatches, followed by one deletion. Then we have two more alignment matches, two insertions and two more matches. At the end, we have seven soft clippings, 7S. These are clipped sequences that are present in the SEQ (Query SEQuence on the same strand as the reference).\n",
    "\n"
   ]
  },
  {
   "cell_type": "markdown",
   "metadata": {},
   "source": [
    "__Q8: How would you represent the following alignment with a CIGAR string?__  \n",
    " \n",
    "Ref:&nbsp;&nbsp;&nbsp;&nbsp;&nbsp;ACGT-&nbsp;-&nbsp;-&nbsp;-&nbsp;ACGTACGT  \n",
    "Read:&nbsp;&nbsp;ACGTACGTACGTACGT  "
   ]
  },
  {
   "cell_type": "code",
   "execution_count": null,
   "metadata": {},
   "outputs": [],
   "source": []
  },
  {
   "cell_type": "markdown",
   "metadata": {},
   "source": [
    "### Flags\n",
    "Column 2 of the alignment contains a combination of bitwise FLAGs describing the alignment. The following table contains the information you can get from the bitwise FLAGs:\n",
    "   \n",
    "|Hex  |Dec |Flag         |Description                                           |\n",
    "|---  |--- |---          |---                                                   |\n",
    "|0x1  |1   |PAIRED       |paired-end (or multiple-segment) sequencing technology|\n",
    "|0x2  |2   |PROPER_PAIR  |each segment properly aligned according to the aligner|\n",
    "|0x4  |4   |UNMAP        |segment unmapped                                      |\n",
    "|0x8  |8   |MUNMAP       |next segment in the template unmapped                 |\n",
    "|0x10 |16  |REVERSE      |SEQ is reverse complemented                           |\n",
    "|0x20 |32  |MREVERSE     |SEQ of the next segment in the template is reversed   |\n",
    "|0x40 |64  |READ1        |the first segment in the template                     |\n",
    "|0x80 |128 |READ2        |the last segment in the template                      |\n",
    "|0x100|256 |SECONDARY    |secondary alignment                                   |\n",
    "|0x200|512 |QCFAIL       |not passing quality controls                          |\n",
    "|0x400|1024|DUP          |PCR or optical duplicate                              |\n",
    "|0x800|2048|SUPPLEMENTARY|supplementary alignment                               |\n",
    "\n",
    "For example, if you have an alignment with FLAG set to 113, this can only be represented by decimal codes `64 + 32 + 16 + 1`, so we know that these four flags apply to the alignment and the alignment is paired-end, reverse complemented, sequence of the next template/mate of the read is reversed and the read aligned is the first segment in the template.\n",
    "\n",
    "#### Primary, secondary and supplementary alignments\n",
    "A read that aligns to a single reference sequence (including insertions, deletions, skips and clipping but not direction changes), is a __linear alignment__. If a read cannot be represented as a linear alignment, but instead is represented as a group of linear alignments without large overlaps, it is called a __chimeric alignment__. These can for instance be caused by structural variations. Usually, one of the linear alignments in a chimeric alignment is considered to be the __representative__ alignment, and the others are called __supplementary__.\n",
    "\n",
    "Sometimes a read maps equally well to more than one spot. In these cases, one of the possible alignments is marked as the __primary__ alignment and the rest are marked as __secondary__ alignments.\n",
    "\n",
    "## BAM\n",
    "BAM (Binary Alignment/Map) format, is a compressed binary version of SAM. This means that, while SAM is human readable, BAM is only readable for computers. BAM files can be viewed using samtools, and will then have the same format as a SAM file.  The key features of BAM are:\n",
    "\n",
    "* Can store alignments from most mappers\n",
    "* Supports multiple sequencing technologies\n",
    "* Supports indexing for quick retrieval/viewing\n",
    "* Compact size (e.g. 112Gbp Illumina = 116GB disk space)\n",
    "* Reads can be grouped into logical groups e.g. lanes, libraries, samples\n",
    "* Widely supported by variant calling packages and viewers"
   ]
  },
  {
   "cell_type": "markdown",
   "metadata": {},
   "source": [
    "Since BAM is a binary format, we can't use the standard UNIX operations directly on this file format. __Samtools__ is a set of programs for interacting with SAM and BAM files. Using the samtools view command, print the header of the BAM file:"
   ]
  },
  {
   "cell_type": "code",
   "execution_count": null,
   "metadata": {},
   "outputs": [],
   "source": [
    "samtools view -H data/NA20538.bam | less"
   ]
  },
  {
   "cell_type": "markdown",
   "metadata": {},
   "source": [
    "### Exercises"
   ]
  },
  {
   "cell_type": "markdown",
   "metadata": {},
   "source": [
    "__Q9: What version of the human assembly was used to perform the alignments? (Hint: Can you spot this somewhere in the @SQ records?)__"
   ]
  },
  {
   "cell_type": "code",
   "execution_count": null,
   "metadata": {},
   "outputs": [],
   "source": []
  },
  {
   "cell_type": "markdown",
   "metadata": {},
   "source": [
    "__Q10: How many lanes are in this BAM file? (Hint: Do you recall what RG represents?)__"
   ]
  },
  {
   "cell_type": "code",
   "execution_count": null,
   "metadata": {},
   "outputs": [],
   "source": []
  },
  {
   "cell_type": "markdown",
   "metadata": {},
   "source": [
    "__Q11: What programs were used to create this BAM file? (Hint: have a look for the program record, @PG)__"
   ]
  },
  {
   "cell_type": "code",
   "execution_count": null,
   "metadata": {},
   "outputs": [],
   "source": []
  },
  {
   "cell_type": "markdown",
   "metadata": {},
   "source": [
    "__Q12: What version of bwa was used to align the reads? (Hint: is there anything in the @PG record that looks like it could be a version tag?)__  "
   ]
  },
  {
   "cell_type": "code",
   "execution_count": null,
   "metadata": {},
   "outputs": [],
   "source": []
  },
  {
   "cell_type": "markdown",
   "metadata": {},
   "source": [
    "## Indexing\n",
    "To allow for fast random access of regions in BAM and CRAM files, they can be indexed. The files must first be coordinate-sorted rather that sorted by read name. This can be done using __samtools sort__. If no options are supplied, it will by default sort by the left-most position of the reference."
   ]
  },
  {
   "cell_type": "code",
   "execution_count": null,
   "metadata": {},
   "outputs": [],
   "source": [
    "samtools sort -o data/SRR13882963_sorted.bam data/SRR13882963.bam"
   ]
  },
  {
   "cell_type": "markdown",
   "metadata": {},
   "source": [
    "Now we can use __samtools index__ to create an index file (.bai) for our sorted BAM file:"
   ]
  },
  {
   "cell_type": "code",
   "execution_count": null,
   "metadata": {},
   "outputs": [],
   "source": [
    "samtools index data/SRR13882963_sorted.bam"
   ]
  },
  {
   "cell_type": "code",
   "execution_count": null,
   "metadata": {},
   "outputs": [],
   "source": []
  },
  {
   "cell_type": "markdown",
   "metadata": {},
   "source": [
    "## VCF\n",
    "The VCF file format was introduced to store variation data. VCF consists of tab-delimited text and is parsable by standard UNIX commands which makes it flexible and user-extensible. The figure below provides an overview of the different components of a VCF file:"
   ]
  },
  {
   "cell_type": "markdown",
   "metadata": {},
   "source": [
    "![VCF format](img/VCF1.png)"
   ]
  },
  {
   "cell_type": "markdown",
   "metadata": {},
   "source": [
    "### VCF header\n",
    "The VCF header consists of meta-information lines (starting with `##`) and a header line (starting with `#`). All meta-information lines are optional and can be put in any order, except for _fileformat_. This holds the information about which version of VCF is used and must come first. \n",
    "\n",
    "The meta-information lines consist of key=value pairs. Examples of meta-information lines that can be included are ##INFO, ##FORMAT and ##reference. The values can consist of multiple fields enclosed by `<>`. More information about these fields is available in the VCF specification [http://samtools.github.io/hts-specs/VCFv4.3.pdf](http://samtools.github.io/hts-specs/VCFv4.3.pdf). This can be accessed using a web browser and there is a copy in the QC directory.\n",
    "\n",
    "#### Header line\n",
    "The header line starts with `#` and consists of 8 required fields:\n",
    "\n",
    "1. CHROM: an identifier from the reference genome\n",
    "2. POS: the reference position\n",
    "3. ID: a list of unique identifiers (where available)\n",
    "4. REF: the reference base(s)\n",
    "5. ALT: the alternate base(s)\n",
    "6. QUAL: a phred-scaled quality score\n",
    "7. FILTER: filter status\n",
    "8. INFO: additional information\n",
    "\n",
    "If the file contains genotype data, the required fields are also followed by a FORMAT column header, and then a number of sample IDs. The FORMAT field specifies the data types and order. Some examples of these data types are:\n",
    "\n",
    "* GT: Genotype, encoded as allele values separated by either / or |\n",
    "* DP: Read depth at this position for this sample\n",
    "* GQ: Conditional genotype quality, encoded as a phred quality\n",
    "\n",
    "### Body\n",
    "In the body of the VCF, each row contains information about a position in the genome along with genotype information on samples for each position, all according to the fields in the header line.\n",
    "\n",
    "## BCF\n",
    "\n",
    "BCF is a compressed binary representation of VCF.\n",
    "\n",
    "VCF can be compressed with BGZF (bgzip) and  indexed with TBI or CSI (tabix), but even compressed it can still be very big. For example, a compressed VCF with 3781 samples of human data will be 54 GB for chromosome 1, and 680 GB for the whole genome. VCFs can also be slow to parse, as text conversion is slow. The main bottleneck is the \"FORMAT\" fields. For this reason the BCF format was developed. \n"
   ]
  },
  {
   "cell_type": "markdown",
   "metadata": {},
   "source": [
    "![ ](img/VCF2.png)"
   ]
  },
  {
   "cell_type": "markdown",
   "metadata": {},
   "source": [
    "Now continue to the next section of the tutorial: [Sequences downloads](Sequences-download.ipynb)."
   ]
  },
  {
   "cell_type": "code",
   "execution_count": null,
   "metadata": {},
   "outputs": [],
   "source": []
  }
 ],
 "metadata": {
  "kernelspec": {
   "display_name": "Python 3",
   "language": "python",
   "name": "python3"
  },
  "language_info": {
   "codemirror_mode": {
    "name": "ipython",
    "version": 3
   },
   "file_extension": ".py",
   "mimetype": "text/x-python",
   "name": "python",
   "nbconvert_exporter": "python",
   "pygments_lexer": "ipython3",
   "version": "3.8.5"
  }
 },
 "nbformat": 4,
 "nbformat_minor": 4
}
