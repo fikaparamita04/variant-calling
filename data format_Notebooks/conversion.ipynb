{
 "cells": [
  {
   "cell_type": "markdown",
   "metadata": {},
   "source": [
    "# File conversion\n",
    "In this section we are going to look at how to convert from one file format to another. There are many tools available for converting between file formats, and we will use some of the most common ones: samtools, bcftools and Picard.\n",
    "\n",
    "## SAM to BAM\n",
    "To convert from SAM to BAM format we are going to use the __`samtools view`__ command. In this instance, we would like to include the SAM header, so we use the __`-h`__ option:"
   ]
  },
  {
   "cell_type": "code",
   "execution_count": null,
   "metadata": {},
   "outputs": [],
   "source": [
    "samtools view -h data/SRR13882963.bam > data/SRR13882963.sam"
   ]
  },
  {
   "cell_type": "markdown",
   "metadata": {},
   "source": [
    "Now, have a look at the first ten lines of the SAM file. They should look like they did in the previous section when you viewed the BAM file header."
   ]
  },
  {
   "cell_type": "code",
   "execution_count": null,
   "metadata": {},
   "outputs": [],
   "source": [
    "head data/SRR13882963.sam"
   ]
  },
  {
   "cell_type": "markdown",
   "metadata": {},
   "source": [
    "Well that was easy! And converting SAM to BAM is just as straightforward. This time there is no need for the `-h` option, however we have to tell samtools that we want the output in BAM format. We do so by adding the __`-b`__ option:"
   ]
  },
  {
   "cell_type": "code",
   "execution_count": null,
   "metadata": {},
   "outputs": [],
   "source": [
    "samtools view -b data/SRR13882963.sam > data/SRR13882963.bam"
   ]
  },
  {
   "cell_type": "markdown",
   "metadata": {},
   "source": [
    "Samtools is very well documented, so for more usage options and functions, have a look at the samtools manual [http://www.htslib.org/doc/samtools-1.0.html](http://www.htslib.org/doc/samtools-1.0.html)."
   ]
  },
  {
   "cell_type": "markdown",
   "metadata": {},
   "source": [
    "## VCF to BCF\n",
    "In a similar way that samtools view can be used to convert between SAM and BAM, __`bcftools view`__ can be used to convert between VCF and BCF. To convert the file called data/SRR13882963_snp.vcf to data/SRR13882963.bcf, run:"
   ]
  },
  {
   "cell_type": "code",
   "execution_count": null,
   "metadata": {},
   "outputs": [],
   "source": [
    "bcftools view -O b -o data/SRR13882963_snp.bcf data/SRR13882963_snp.vcf"
   ]
  },
  {
   "cell_type": "markdown",
   "metadata": {},
   "source": [
    "The __`-O`__ option allows us to specify in what format we want the output, compressed BCF (b), uncompressed BCF (u), compressed VCF (z) or uncompressed VCF (v). With the __`-o`__ option we can select the name of the output file. \n",
    "\n",
    "Have a look at what files were generated (the options `-lrt` will list the files in reverse chronological order):\n"
   ]
  },
  {
   "cell_type": "code",
   "execution_count": null,
   "metadata": {},
   "outputs": [],
   "source": [
    "ls -lrt data"
   ]
  },
  {
   "cell_type": "markdown",
   "metadata": {},
   "source": [
    "To convert a BCF file to VCF, we can run a similar command. If we want to keep the original VCF, we need to give the new one a different name so that the old one is not overwritten:"
   ]
  },
  {
   "cell_type": "code",
   "execution_count": null,
   "metadata": {},
   "outputs": [],
   "source": [
    "bcftools view -O z -o data/SRR13882963_snp.vcf data/SRR13882963_snp2.bcf"
   ]
  },
  {
   "cell_type": "markdown",
   "metadata": {},
   "source": [
    "Now continue to the next section of the tutorial: [QC Assessment](assessment.ipynb)."
   ]
  },
  {
   "cell_type": "code",
   "execution_count": null,
   "metadata": {},
   "outputs": [],
   "source": []
  }
 ],
 "metadata": {
  "kernelspec": {
   "display_name": "Python 3",
   "language": "python",
   "name": "python3"
  },
  "language_info": {
   "codemirror_mode": {
    "name": "ipython",
    "version": 3
   },
   "file_extension": ".py",
   "mimetype": "text/x-python",
   "name": "python",
   "nbconvert_exporter": "python",
   "pygments_lexer": "ipython3",
   "version": "3.8.5"
  }
 },
 "nbformat": 4,
 "nbformat_minor": 4
}
