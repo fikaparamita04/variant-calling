{
 "cells": [
  {
   "cell_type": "markdown",
   "metadata": {},
   "source": [
    "# QC assessment of NGS data\n",
    "QC is an important part of any analysis. In this section we are going to look at some of the metrics and graphs that can be used to assess the QC of NGS data. \n",
    "\n",
    "\n",
    "## Base quality\n",
    "[Illumina sequencing](https://en.wikipedia.org/wiki/Illumina_dye_sequencing) technology relies on sequencing by synthesis. One of the most common problems with this is __dephasing__. For each sequencing cycle, there is a possibility that the replication machinery slips and either incorporates more than one nucleotide or perhaps misses to incorporate one at all. The more cycles that are run (i.e. the longer the read length gets), the greater the accumulation of these types of errors gets. This leads to a heterogeneous population in the cluster, and a decreased signal purity, which in turn reduces the precision of the base calling. The figure below shows an example of this."
   ]
  },
  {
   "cell_type": "markdown",
   "metadata": {},
   "source": [
    "![Mean Base Quality](img/QC_good.png)"
   ]
  },
  {
   "cell_type": "markdown",
   "metadata": {},
   "source": [
    "Because of dephasing, it is possible to have high-quality data at the beginning of the read but really low-quality data towards the end of the read. In those cases you can decide to trim off the low-quality reads, for example using a tool called [Trimmomatic](http://www.usadellab.org/cms/?page=trimmomatic).\n",
    "\n",
    "\n",
    "\n",
    "The figures below shows an example of a good sequencing run (left) and a poor sequencing run (right)."
   ]
  },
  {
   "cell_type": "markdown",
   "metadata": {},
   "source": [
    "![Base quality](img/QC.png)"
   ]
  },
  {
   "cell_type": "markdown",
   "metadata": {},
   "source": [
    "## Generating QC stats\n",
    "Now let's try this out! \n",
    "It is a good practice to check the quality of the sequences by plotting the quality (Q) scores by the position. In general, a Q score of > 30 is good.\n",
    "\n",
    "To generate a plot, we will use `fastQC`  for raw [fastq](https://www.ncbi.nlm.nih.gov/sra/SRR13882963) that produce the SRR13882963_1.fastq and SRR13882963_2.fastq."
   ]
  },
  {
   "cell_type": "markdown",
   "metadata": {},
   "source": [
    "- Install on your [laptop](https://www.bioinformatics.babraham.ac.uk/projects/fastqc/)\n",
    "- The analysis [modules](https://www.bioinformatics.babraham.ac.uk/projects/fastqc/Help/3%20Analysis%20Modules/)\n",
    "- Example of [good data](https://www.bioinformatics.babraham.ac.uk/projects/fastqc/good_sequence_short_fastqc.html)\n",
    "- Example of [bad data](https://www.bioinformatics.babraham.ac.uk/projects/fastqc/bad_sequence_fastqc.html)"
   ]
  },
  {
   "cell_type": "code",
   "execution_count": null,
   "metadata": {},
   "outputs": [],
   "source": [
    "fastqc data/SRR13882963_1.fastq"
   ]
  },
  {
   "cell_type": "markdown",
   "metadata": {},
   "source": [
    "it will generate the result in html file that can be opened using browser.\n",
    "If the result isn't good enough, we can proceed to trim off the bad sequences using [Trimmomatic](http://www.usadellab.org/cms/?page=trimmomatic)"
   ]
  },
  {
   "cell_type": "code",
   "execution_count": null,
   "metadata": {},
   "outputs": [],
   "source": []
  },
  {
   "cell_type": "markdown",
   "metadata": {},
   "source": [
    "## Trimming the fastq sequences\n",
    "\n",
    "Trimmomatic is a fast, multithreaded command line tool that can be used to trim and crop Illumina (FASTQ) data as well as to remove adapters. These adapters can pose a real problem depending on the library preparation and downstream application.\n",
    "\n",
    "There are two major modes of the program: Paired end mode and Single end mode. The paired end mode will maintain correspondence of read pairs and also use the additional information contained in paired reads to better find adapter or PCR primer fragments introduced by the library preparation process.\n",
    "\n",
    "Trimmomatic works with FASTQ files, Files compressed using either „gzip‟ or „bzip2‟ are supported, and are identified by use of „.gz‟ or „.bz2‟ file extensions.\n",
    "\n",
    "Trimmomatic performs a variety of useful trimming tasks for illumina paired-end and single ended data. The selection of trimming steps and their associated parameters are supplied on the command line.\n",
    "\n",
    "The current trimming steps are:\n",
    "- ILLUMINACLIP: Cut adapter and other illumina-specific sequences from the read. SLIDINGWINDOW: Performs a sliding window trimming approach. It starts scanning at the 5‟ end and clips the read once the average quality within the window falls below a threshold.\n",
    "- MAXINFO: An adaptive quality trimmer which balances read length and error rate to maximise the value of each read\n",
    "- LEADING: Cut bases off the start of a read, if below a threshold quality\n",
    "- TRAILING: Cut bases off the end of a read, if below a threshold quality\n",
    "- CROP: Cut the read to a specified length by removing bases from the end HEADCROP: Cut the specified number of bases from the start of the read MINLEN: Drop the read if it is below a specified length\n",
    "- AVGQUAL: Drop the read if the average quality is below the specified level\n",
    "\n",
    "For more information, you can go to: http://www.usadellab.org/cms/?page=trimmomatic"
   ]
  },
  {
   "cell_type": "markdown",
   "metadata": {},
   "source": [
    "### Paired End Mode"
   ]
  },
  {
   "cell_type": "markdown",
   "metadata": {},
   "source": [
    "For paired-end data, two input files, and 4 output files are specified, 2 for the 'paired' output where both reads survived the processing, and 2 for corresponding 'unpaired' output where a read survived, but the partner read did not."
   ]
  },
  {
   "cell_type": "code",
   "execution_count": null,
   "metadata": {},
   "outputs": [],
   "source": [
    "#Command for paired-end trimming:\n",
    "\n",
    "java -jar <path-to-file-trimmomatic-0.35.jar> PE -phred33 <path-to-file-input_R1.fq.gz> <path-to-file-input_R2.fq.gz> <path-to-file-output_1P.fq.gz> <path-to-file-output_1U.fq.gz> <path-to-file-output_2P.fq.gz> <path-to-file-output_2U.fq.gz> (set-of-trimming-parameters)"
   ]
  },
  {
   "cell_type": "markdown",
   "metadata": {},
   "source": [
    "Example for variant calling:"
   ]
  },
  {
   "cell_type": "code",
   "execution_count": null,
   "metadata": {},
   "outputs": [],
   "source": [
    "java -jar Trimmomatic-0.39/trimmomatic-0.39.jar PE -phred33 data/SRR13882963_1.fastq data/SRR13882963_2.fastq data/SRR13882963_1P.fastq data/SRR13882963_1U.fastq data/SRR13882963_2P.fastq data/SRR13882963_2U.fastq LEADING:3 TRAILING:3 SLIDINGWINDOW:4:17 MINLEN:35"
   ]
  },
  {
   "cell_type": "markdown",
   "metadata": {},
   "source": [
    "__Congratulations__ you have reached the end of the Data formats and QC tutorial!"
   ]
  }
 ],
 "metadata": {
  "kernelspec": {
   "display_name": "Python 3",
   "language": "python",
   "name": "python3"
  },
  "language_info": {
   "codemirror_mode": {
    "name": "ipython",
    "version": 3
   },
   "file_extension": ".py",
   "mimetype": "text/x-python",
   "name": "python",
   "nbconvert_exporter": "python",
   "pygments_lexer": "ipython3",
   "version": "3.8.5"
  }
 },
 "nbformat": 4,
 "nbformat_minor": 4
}
