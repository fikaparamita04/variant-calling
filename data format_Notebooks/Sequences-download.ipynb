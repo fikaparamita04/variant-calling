{
 "cells": [
  {
   "cell_type": "markdown",
   "metadata": {},
   "source": [
    "# Download the raw fastq files and Human reference genome sequences (fasta)"
   ]
  },
  {
   "cell_type": "markdown",
   "metadata": {},
   "source": [
    "### Download the raw fastq files\n",
    "\n",
    "We can download the raw fastq file on SRA website under Bioproject PRJNA606794 https://www.ncbi.nlm.nih.gov/sra?linkname=bioproject_sra_all&from_uid=606794"
   ]
  },
  {
   "cell_type": "markdown",
   "metadata": {},
   "source": [
    "Download the raw fastq files using SRA-toolkit https://ncbi.github.io/sra-tools/fastq-dump.html"
   ]
  },
  {
   "cell_type": "code",
   "execution_count": null,
   "metadata": {},
   "outputs": [],
   "source": [
    "fastq-dump --split-files <SRR-acession-number> -O <path-to-output-directory>"
   ]
  },
  {
   "cell_type": "markdown",
   "metadata": {},
   "source": [
    "Example:"
   ]
  },
  {
   "cell_type": "code",
   "execution_count": null,
   "metadata": {},
   "outputs": [],
   "source": [
    "fastq-dump --split-files SRR13882963 -O NGScourse_22/data_format/data/"
   ]
  },
  {
   "cell_type": "markdown",
   "metadata": {},
   "source": [
    "This script will give paired-end fastq files:\n",
    "SRR13882963_1.fastq\n",
    "SRR13882963_2.fastq"
   ]
  },
  {
   "cell_type": "markdown",
   "metadata": {},
   "source": [
    "### Download the human reference genome sequence\n",
    "\n",
    "We can download the human reference genome sequences in https://asia.ensembl.org/Homo_sapiens/Info/Index"
   ]
  },
  {
   "cell_type": "markdown",
   "metadata": {},
   "source": [
    "Let us look at the files that will be used\n",
    "\n",
    "- `Homo_sapiens.GRCh38.dna.primary_assembly.fa` - the human reference genome (hg38)\n",
    "- `SRR13882963_1.fastq` and `SRR13882963_2.fastq' - the sample sequences"
   ]
  },
  {
   "cell_type": "markdown",
   "metadata": {},
   "source": [
    "Now continue to the next section of the tutorial: [File conversion](conversion.ipynb)."
   ]
  }
 ],
 "metadata": {
  "kernelspec": {
   "display_name": "Python 3",
   "language": "python",
   "name": "python3"
  },
  "language_info": {
   "codemirror_mode": {
    "name": "ipython",
    "version": 3
   },
   "file_extension": ".py",
   "mimetype": "text/x-python",
   "name": "python",
   "nbconvert_exporter": "python",
   "pygments_lexer": "ipython3",
   "version": "3.8.5"
  }
 },
 "nbformat": 4,
 "nbformat_minor": 4
}
