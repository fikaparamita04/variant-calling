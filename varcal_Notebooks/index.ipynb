{
 "cells": [
  {
   "cell_type": "markdown",
   "metadata": {},
   "source": [
    "# Variant Calling\n",
    "\n",
    "## Introduction\n",
    "Variant calling is the process of identifying differences between the reference genome and the samples that have been sequenced. These differences can be single nucleotide polymorphisms (SNPs), multi-nucleotide polymorphisms (MNPs) or small insertions and deletions (indels) and examples of each of these are shown below."
   ]
  },
  {
   "cell_type": "markdown",
   "metadata": {},
   "source": [
    "![SNPs and small insertions and deletions](images/snps-and-indels.png \"SNPs and small insertions and deletions\")"
   ]
  },
  {
   "cell_type": "markdown",
   "metadata": {},
   "source": [
    "## Learning outcomes\n",
    "On completion of the tutorial, you can expect to be able to:\n",
    "\n",
    "* Perform variant calling (SNPs and indels) using standard tools\n",
    "* Assess the quality/confidence of a variant call\n",
    "* Filter variant calls to remove low quality/confidence calls\n",
    "* Visualise variants using standard tools\n",
    "* Annotate variants with consequence calls \n",
    "\n",
    "## Tutorial sections\n",
    "This tutorial comprises the following sections:   \n",
    " 1. [Performing variant calling](variant-calling.ipynb)\n",
    " 2. [Filtering variants](filtering.ipynb)\n",
    " 3. [Variant annotation](Annotation.ipynb)\n",
    " 4. [Visualising variants](Visualization.ipynb) \n",
    "   \n",
    "\n",
    "## Authors\n",
    "This tutorial was written by [Rafika I. Paramita](https://github.com/fikaparamita04) that adapted (with modification) from [Jacqui Keane](https://github.com/jacquikeane) based on material from [Thomas Keane](https://github.com/tk2) and [Petr Danecek](https://github.com/pd3).\n",
    "\n",
    "## Running the commands from this tutorial\n",
    "You can follow this tutorial by typing all the commands you see into a terminal window. This is similar to the \"Command Prompt\" window on MS Windows systems, which allows the user to type DOS commands to manage files.\n",
    "\n",
    "To get started, open a new terminal on your computer and type the command below:"
   ]
  },
  {
   "cell_type": "code",
   "execution_count": null,
   "metadata": {},
   "outputs": [],
   "source": [
    "cd NGScourse_22/variant_calling/data"
   ]
  },
  {
   "cell_type": "markdown",
   "metadata": {},
   "source": [
    "Now you can follow the instructions in the tutorial from here.\n",
    "\n",
    "## Let’s get started!\n",
    "This tutorial assumes that you have samtools, bcftools and IGV installed on your computer. These are already installed on the VM you are using. To check that these are installed, you can run the following commands:"
   ]
  },
  {
   "cell_type": "code",
   "execution_count": null,
   "metadata": {},
   "outputs": [],
   "source": [
    "samtools --help"
   ]
  },
  {
   "cell_type": "code",
   "execution_count": null,
   "metadata": {},
   "outputs": [],
   "source": [
    "bcftools --help"
   ]
  },
  {
   "cell_type": "markdown",
   "metadata": {},
   "source": [
    "This should return the help message for samtools and bcftools. The final command should launch the genome viewer IGV. You can close the IGV software, we will use it later in this tutorial to visualise variants.\n",
    "\n",
    "To get started with the tutorial, go to to the first section: [Performing variant calling](variant-calling.ipynb)"
   ]
  }
 ],
 "metadata": {
  "kernelspec": {
   "display_name": "Python 3",
   "language": "python",
   "name": "python3"
  },
  "language_info": {
   "codemirror_mode": {
    "name": "ipython",
    "version": 3
   },
   "file_extension": ".py",
   "mimetype": "text/x-python",
   "name": "python",
   "nbconvert_exporter": "python",
   "pygments_lexer": "ipython3",
   "version": "3.8.5"
  }
 },
 "nbformat": 4,
 "nbformat_minor": 4
}
