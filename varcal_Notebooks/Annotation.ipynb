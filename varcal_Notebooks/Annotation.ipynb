{
 "cells": [
  {
   "cell_type": "markdown",
   "metadata": {},
   "source": [
    "# Annotation of Variants\n",
    "\n",
    "We have uncovered variants that differ from the reference genome, but we do not know if the variants affect genes/regions in the genome that may explain a disease or a phenotype.\n",
    "\n",
    "\n",
    "To do this, we will annotate the VCF file by using a tool called `SnpEff/SnpSift`\n",
    "\n",
    "http://snpeff.sourceforge.net\n",
    "\n",
    "We will be using the SnpSift tool specifically to compare our variants against another variant database. Running `SnpSift` will give us the options available"
   ]
  },
  {
   "cell_type": "code",
   "execution_count": null,
   "metadata": {},
   "outputs": [],
   "source": [
    "java -jar /home/snpEff/snpEff.jar eff -v GRCh38.86 SRR13882963_snp.vcf > SRR13882963_ann.vcf"
   ]
  },
  {
   "cell_type": "markdown",
   "metadata": {},
   "source": [
    "We will annotate the VCF file against the dbSNP and the ClinVar database\n",
    "\n",
    "https://www.ncbi.nlm.nih.gov/variation/docs/human_variation_vcf/\n",
    "\n",
    "This resource aggregates data from various laboratories and expert panels about the interpretation of variants"
   ]
  },
  {
   "cell_type": "code",
   "execution_count": null,
   "metadata": {},
   "outputs": [],
   "source": [
    "java -Xmx16G -jar /home/snpEff/SnpSift.jar annotate -v /home/ref/All_20180418.vcf.gz SRR13882963_ann.vcf > SRR13882963_dbSNP.vcf"
   ]
  },
  {
   "cell_type": "code",
   "execution_count": null,
   "metadata": {},
   "outputs": [],
   "source": [
    "java -jar /home/snpEff/SnpSift.jar annotate -v /home/ref/clinvar_20220122.vcf.gz SRR13882963_dbSNP.vcf > SRR13882963_clinvar.vcf"
   ]
  },
  {
   "cell_type": "markdown",
   "metadata": {},
   "source": [
    "We can filter the list of variant by the quality `QUAL`. Conventionally, we can choose those that are >30 using SnpSift.\n",
    "We also filter the sequence with read depth >=18"
   ]
  },
  {
   "cell_type": "code",
   "execution_count": null,
   "metadata": {},
   "outputs": [],
   "source": [
    "cat SRR13882963_clinvar.vcf | java -jar /home/snpEff/SnpSift.jar filter \"( QUAL >= 30 ) & (DP >= 18)\" > SRR13882963_pass.vcf"
   ]
  },
  {
   "cell_type": "markdown",
   "metadata": {},
   "source": [
    "## Taking a look at the annotated variant file\n",
    "\n",
    "<img src=\"images/clinvar.png\"/>\n",
    "\n"
   ]
  },
  {
   "cell_type": "markdown",
   "metadata": {},
   "source": [
    "The significance of a variant is classified into different tiers depending on the level of evidence\n",
    "- pathogenic\n",
    "- likely pathogenic\n",
    "- uncertain significance\n",
    "- likely benign\n",
    "- benign\n",
    "\n",
    "The recommendations and guidelines by the American College of Medical Genetics and Genomics and the Association for Molecular Pathology\n",
    "https://www.ncbi.nlm.nih.gov/pmc/articles/PMC4544753/"
   ]
  }
 ],
 "metadata": {
  "kernelspec": {
   "display_name": "Python 3",
   "language": "python",
   "name": "python3"
  },
  "language_info": {
   "codemirror_mode": {
    "name": "ipython",
    "version": 3
   },
   "file_extension": ".py",
   "mimetype": "text/x-python",
   "name": "python",
   "nbconvert_exporter": "python",
   "pygments_lexer": "ipython3",
   "version": "3.8.5"
  }
 },
 "nbformat": 4,
 "nbformat_minor": 4
}
