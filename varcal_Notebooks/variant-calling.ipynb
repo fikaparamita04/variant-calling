{
 "cells": [
  {
   "cell_type": "markdown",
   "metadata": {},
   "source": [
    "# Performing Variant Calling\n",
    "\n",
    "When performing variant calling we need the aligned sequences in SAM or BAM format and the reference genome that we want to call varants against.\n",
    "\n",
    "First, check you are in the correct directory. "
   ]
  },
  {
   "cell_type": "code",
   "execution_count": null,
   "metadata": {},
   "outputs": [],
   "source": [
    "pwd"
   ]
  },
  {
   "cell_type": "markdown",
   "metadata": {},
   "source": [
    "It should display something like:\n",
    "\n",
    "  ``NGScourse_22/variant_calling/data``"
   ]
  },
  {
   "cell_type": "markdown",
   "metadata": {},
   "source": [
    "## Generating pileup\n",
    "\n",
    "The command `samtools mpileup` prints the read bases that align to each position in the reference genome. Type the command:\n"
   ]
  },
  {
   "cell_type": "code",
   "execution_count": null,
   "metadata": {},
   "outputs": [],
   "source": [
    "samtools mpileup -f /home/ref/Homo_sapiens.GRCh38.dna.primary_assembly.fa SRR13882963.sorted.bam | less -S"
   ]
  },
  {
   "cell_type": "markdown",
   "metadata": {},
   "source": [
    "Each line corresponds to a position on the genome. \n",
    "\n",
    "The columns are: chromosome, position, reference base, read depth, read bases (dot . and comma , indicate match on the forward and on the reverse strand; ACGTN and acgtn a mismatch on the forward and the reverse strand) and the final column is the base qualities encoded into characters. The caret symbol ^ marks the start of a read, the dollar sign $ the end of a read, deleted bases are represented by asterisk *.\n",
    "\n",
    "This output can be used for a simple consensus calling. One rarely needs this type of output. Instead, for a more sophisticated variant calling method, see the next section."
   ]
  },
  {
   "cell_type": "markdown",
   "metadata": {},
   "source": [
    "## Generating genotype likelihoods and calling variants\n",
    "\n",
    "The `bcftools mpileup` command can be used to generate genotype likelihoods. (Beware: the command mpileup is present in both samtools and bcftools, but in both they do different things. While `samtools mpileup` produces the text pileup output seen in the previous exercise, `bcftools mpileup` generates a VCF file with genotype likelihoods.)\n",
    "\n",
    "Run the following command (when done, press q to quit the viewing mode):"
   ]
  },
  {
   "cell_type": "markdown",
   "metadata": {},
   "source": [
    "bcftools mpileup -f /home/ref/Homo_sapiens.GRCh38.dna.primary_assembly.fa SRR13882963.sorted.bam -o SRR13882963.pileup\n",
    "\n",
    "\n",
    "bcftools call -mv -Ov SRR13882963.pileup --ploidy 1 -o SRR13882963_snp.vcf"
   ]
  },
  {
   "cell_type": "markdown",
   "metadata": {},
   "source": [
    "This generates an intermediate output which contains genotype likelihoods and other raw information necessary for variant calling. This output is usually streamed directly to the caller like this\n",
    "\n",
    " `bcftools mpileup -f /home/ref/Homo_sapiens.GRCh38.dna.primary_assembly.fa SRR13882963.sorted.bam - | bcftools call -mv -o --ploidy 1 SRR13882963_snp.vcf`\n",
    "\n",
    "The output above contains both variant and non-variant positions. Check the input/output options section of the `bcftools call` usage page and see if there is an option to print out only variant sites. Then construct a command to print out variant sites only:"
   ]
  },
  {
   "cell_type": "code",
   "execution_count": null,
   "metadata": {},
   "outputs": [],
   "source": []
  },
  {
   "cell_type": "markdown",
   "metadata": {},
   "source": [
    "The INFO and FORMAT fields of each entry tells us something about the data at the position in the genome. It consists of a set of key-value pairs with the tags being explained in the header of the VCF file (see the ##INFO and ##FORMAT lines in the header).\n",
    "\n",
    "We can tell mpileup to add additional ##INFO and ##FORMAT information to the output. For example, we can ask it to add the FORMAT/AD tag which informs about the number of high-quality reads that support alleles listed in REF and ALT columns. The list of all available tags can be printed with the command:"
   ]
  },
  {
   "cell_type": "code",
   "execution_count": null,
   "metadata": {},
   "outputs": [],
   "source": [
    "bcftools mpileup -a ?"
   ]
  },
  {
   "cell_type": "markdown",
   "metadata": {},
   "source": [
    "Now let's run the variant calling again, this time adding the `-a AD` option. We will also add the `-Ou` option so that it streams a binary uncompressed BCF into call. This is to avoid the unnecessary CPU overhead of formatting the internal binary format to plain text VCF only to be immediately formatted back to the internal binary format again."
   ]
  },
  {
   "cell_type": "code",
   "execution_count": null,
   "metadata": {},
   "outputs": [],
   "source": [
    "bcftools mpileup -a AD -f /home/ref/Homo_sapiens.GRCh38.dna.primary_assembly.fa.gz SRR12165160.sorted.bam -Ou | bcftools call -mv -o SRR12165160.vcf"
   ]
  },
  {
   "cell_type": "markdown",
   "metadata": {},
   "source": [
    "Congratulations, you have sucessfully called variants from some NGS data. Now continue to the next section of the tutorial: [Annotation](Annotation.ipynb)"
   ]
  },
  {
   "cell_type": "code",
   "execution_count": null,
   "metadata": {},
   "outputs": [],
   "source": []
  }
 ],
 "metadata": {
  "kernelspec": {
   "display_name": "Python 3",
   "language": "python",
   "name": "python3"
  },
  "language_info": {
   "codemirror_mode": {
    "name": "ipython",
    "version": 3
   },
   "file_extension": ".py",
   "mimetype": "text/x-python",
   "name": "python",
   "nbconvert_exporter": "python",
   "pygments_lexer": "ipython3",
   "version": "3.8.5"
  }
 },
 "nbformat": 4,
 "nbformat_minor": 4
}
