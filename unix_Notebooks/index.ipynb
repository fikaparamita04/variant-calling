{
 "cells": [
  {
   "cell_type": "markdown",
   "metadata": {},
   "source": [
    "# Unix for Bioinformatics\n",
    "\n",
    "## Introduction\n",
    "\n",
    "Unix is the standard operating system on most large computer systems in scientific research, in the same way that Microsoft Windows is the dominant operating system on desktop PCs.\n",
    "\n",
    "Unix and MS Windows both perform the important job of managing the computer's hardware (screen, keyboard, mouse, hard disks, network connections, etc...) on your behalf. They also provide you with tools to manage your files and to run application software. They both offer a graphical user interface (desktop). These desktop interfaces look different between the operating systems, use different names for things (e.g. directory versus folder) and have different images but they mostly offer the same functionality.\n",
    "\n",
    "Unix is a powerful, secure, robust and stable operating system which allows dozens of people to run programs on the same computer at the same time. This is why it is the preferred operating system for large-scale scientific computing. It runs on all kinds of machines, from mobile phones (Android), desktop PCs... to supercomputers.\n",
    "\n",
    "\n",
    "### Why Unix?\n",
    "\n",
    "Increasingly, the output of biological research exists as in silico data, usually in the form of large text files. Unix is particularly suitable for working with such files and has several powerful and flexible commands that can be used to process and analyse this data. One advantage of learning Unix is that many of the commands can be combined in an almost unlimited fashion. So if you can learn just six Unix commands, you will be able to do a lot more than just six things.\n",
    "\n",
    "Unix contains hundreds of commands, but to conduct your analysis you will probably only need 10 or so to achieve most of what you want to do. In this tutorial we will introduce you to some basic Unix commands followed by some more advanced commands and provide examples of how they can be used in bioinformatics analyses.\n",
    "\n",
    "## Learning outcomes\n",
    "This tutorial is **Introduction to UNIX**. By the end of the first section you can expect to be able to:\n",
    "\n",
    "* Describe why UNIX is sutable for analysing NGS data\n",
    "* Know what the UNIX command line is\n",
    "* Understand the UNIX directory structure and navigate around this structure\n",
    "* Manipulate (move, copy and delete ) files using the command line \n",
    "\n",
    "**Introduction to UNIX** comprises the following sections: \n",
    "  1. [Basic unix](basic.ipynb)   \n",
    "  \n",
    "\n",
    "## Authors\n",
    "This tutorial was written by [Rafika I. Paramita](https://github.com/fikaparamita04) that adapted (with modification) from [Jacqui Keane](https://github.com/jacquikeane) and [Martin Hunt](https://github.com/martinghunt).\n",
    "\n",
    "## Running the commands in this tutorial"
   ]
  },
  {
   "cell_type": "markdown",
   "metadata": {},
   "source": [
    "You can follow this tutorial by typing all the commands you see into a terminal window. This is similar to the \"Command Prompt\" window on MS Windows systems, which allows the user to type DOS commands to manage files.\n",
    "\n",
    "To get started, open a new terminal on your computer and type the command below:"
   ]
  },
  {
   "cell_type": "code",
   "execution_count": null,
   "metadata": {},
   "outputs": [],
   "source": [
    "cd NGS22_course/unix/"
   ]
  },
  {
   "cell_type": "markdown",
   "metadata": {},
   "source": [
    "Now you can follow the instructions in the tutorial from here.\n",
    "\n",
    "## Let’s get started!\n",
    "    \n",
    "To get started with the tutorial, go to the next section: [Basic unix](basic.ipynb)"
   ]
  }
 ],
 "metadata": {
  "kernelspec": {
   "display_name": "Python 3",
   "language": "python",
   "name": "python3"
  },
  "language_info": {
   "codemirror_mode": {
    "name": "ipython",
    "version": 3
   },
   "file_extension": ".py",
   "mimetype": "text/x-python",
   "name": "python",
   "nbconvert_exporter": "python",
   "pygments_lexer": "ipython3",
   "version": "3.8.5"
  }
 },
 "nbformat": 4,
 "nbformat_minor": 4
}
