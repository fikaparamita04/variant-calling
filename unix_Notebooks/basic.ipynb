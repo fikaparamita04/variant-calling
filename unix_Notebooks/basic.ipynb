{
 "cells": [
  {
   "cell_type": "markdown",
   "metadata": {},
   "source": [
    "# Basic Unix\n",
    "\n",
    "## The Commandline\n",
    "\n",
    "The commandline or 'terminal' is an interface you can use to run programs and analyse your data.  If this is your first time using one it will seem pretty daunting at first but, with just a few commands, you'll start to see how it helps you to get things done much quicker.  You're probably more familiar with software which uses a graphical user interface, also known as a GUI."
   ]
  },
  {
   "cell_type": "markdown",
   "metadata": {},
   "source": [
    "## Getting started\n",
    "\n",
    "Let's check that you're in the right place. Type the command below in the terminal window followed by the `Enter` key:"
   ]
  },
  {
   "cell_type": "code",
   "execution_count": null,
   "metadata": {
    "scrolled": true
   },
   "outputs": [],
   "source": [
    "pwd"
   ]
  },
  {
   "cell_type": "markdown",
   "metadata": {},
   "source": [
    "It should display something like:"
   ]
  },
  {
   "cell_type": "markdown",
   "metadata": {},
   "source": [
    "  ``NGScourse_22/unix/``"
   ]
  },
  {
   "cell_type": "markdown",
   "metadata": {},
   "source": [
    "Then continue through the course, entering any commands that you encounter (highlighted in a grey box with a keyboard symbol) into your terminal window. "
   ]
  },
  {
   "cell_type": "markdown",
   "metadata": {},
   "source": [
    "Before getting started there are some general points to remember that will make your life easier:\n",
    "\n",
    "* Unix is case sensitive - typing `ls` is not the same as typing `LS`.\n",
    "* Often when you have problems with Unix, it is due to a spelling mistake.  Check that you have not missed or added a space.  Pay careful attention when typing commands across a couple of lines."
   ]
  },
  {
   "cell_type": "markdown",
   "metadata": {},
   "source": [
    "## Files and directories\n",
    "\n",
    "_Directories_ are the Unix equivalent of folders on a PC or Mac. They are organised in a hierarchy, so directories can have sub-directories and so on. Directories are very useful for organising your work and keeping your account tidy - for example, if you have more than one project, you can organise the files for each project into different directories to keep them separate. You can think of directories as rooms in a house. You can only be in one room (directory) at a time. When you are in a room you can see everything in that room easily. To see things in other rooms, you have to go to the appropriate door and crane your head around. Unix works in a similar manner, moving from directory to directory to access files. The location or directory that you are in is referred to as the current working directory.\n",
    "\n",
    "For the file called `index.ipynb` under the `unix` directory, the location or full pathname can be expressed as:"
   ]
  },
  {
   "cell_type": "code",
   "execution_count": null,
   "metadata": {},
   "outputs": [],
   "source": [
    "NGScourse_22/unix/Notebooks/index.ipynb"
   ]
  },
  {
   "cell_type": "markdown",
   "metadata": {},
   "source": [
    "## pwd - find where you are\n",
    "\n",
    "The command `pwd` stands for print working directory. A _command_ (also known as a _program_) is something which tells the computer to do something.  Commands are therefore often the first thing that you type into the terminal.\n",
    "\n",
    "As described above, directories are arranged in a hierarchical structure. To determine where you are in the hierarchy you can use the `pwd` command to display the name of the current working directory. The current working directory may be thought of as the directory you are in, i.e. your current position in the file-system tree.\n",
    "\n",
    "To find out where you are, type the following:"
   ]
  },
  {
   "cell_type": "code",
   "execution_count": null,
   "metadata": {
    "scrolled": true
   },
   "outputs": [],
   "source": [
    "pwd"
   ]
  },
  {
   "cell_type": "markdown",
   "metadata": {},
   "source": [
    "Remember that Unix is case sensitive, `PWD` is not the same as `pwd`.\n",
    "\n",
    "`pwd` will list each of the folders you would need to navigate through to get from the `root` (top level directory) of the file system to your current directory.  This is sometimes refered to as your 'absolute path' to distinguish that it gives a complete route rather than a 'relative path' which tells you how to get from the current working directory to another directory.  More on that shortly."
   ]
  },
  {
   "cell_type": "markdown",
   "metadata": {},
   "source": [
    "## ls - list the contents of a directory\n",
    "\n",
    "The command `ls` stands for list.  The `ls` command can be used to list the contents of a directory.\n",
    "\n",
    "To list the contents of your current working directory type:"
   ]
  },
  {
   "cell_type": "code",
   "execution_count": null,
   "metadata": {
    "scrolled": true
   },
   "outputs": [],
   "source": [
    "ls"
   ]
  },
  {
   "cell_type": "markdown",
   "metadata": {},
   "source": [
    "You should see that there are 3 items in this directory.\n",
    "\n",
    "To list the contents of a directory with extra information about the items type:"
   ]
  },
  {
   "cell_type": "code",
   "execution_count": null,
   "metadata": {
    "scrolled": true
   },
   "outputs": [],
   "source": [
    "ls -l"
   ]
  },
  {
   "cell_type": "markdown",
   "metadata": {},
   "source": [
    "Instead of printing out a simple list, this should have printed out additional information about each file. Note that there is a space between the command `ls` and the `-l`. There is no space between the dash and the letter l.\n",
    "\n",
    "`-l` is our first example of an _option_.  Many commands have options which change their behaviour but are not always required. \n",
    "\n",
    "What do each of the columns represent? (file permissions, file owner, group owner, size, date)"
   ]
  },
  {
   "cell_type": "markdown",
   "metadata": {},
   "source": [
    "To list all contents of a directory including hidden files and directories (hidden files and directories are not shown by default and are used to help important data from being deleted) type:"
   ]
  },
  {
   "cell_type": "code",
   "execution_count": null,
   "metadata": {},
   "outputs": [],
   "source": [
    "ls -a -l"
   ]
  },
  {
   "cell_type": "markdown",
   "metadata": {},
   "source": [
    "This is an example of a command which can take multiple options at the same time."
   ]
  },
  {
   "cell_type": "markdown",
   "metadata": {},
   "source": [
    "Try the same command but with the `-h` option:"
   ]
  },
  {
   "cell_type": "code",
   "execution_count": null,
   "metadata": {
    "scrolled": true
   },
   "outputs": [],
   "source": [
    "ls -alh"
   ]
  },
  {
   "cell_type": "markdown",
   "metadata": {},
   "source": [
    "You'll also notice that we've combined `-a -l -h` into what appears to be a single `-alh` option.  It's almost always ok to do this for options which are made up of a single dash followed by a single letter.\n",
    "\n",
    "What does the `-h` option do?"
   ]
  },
  {
   "cell_type": "markdown",
   "metadata": {},
   "source": [
    "In this case we gave `ls` an _argument_ describing the _relative path_ to the directory `data` from our current working directory. Arguments are very similar to options but they often refer to things which are not prefixed with dashes.\n",
    "\n",
    "How many files are there in this directory?"
   ]
  },
  {
   "cell_type": "markdown",
   "metadata": {},
   "source": [
    "## Tab completion\n",
    "\n",
    "Typing out directory or file names is really boring and you're likely to make typos which will at best make your command fail with a strange error and at worst overwrite some of your carefully crafted analysis.  _Tab completion_ is a trick which normally reduces this risk significantly.\n",
    "\n",
    "Instead of typing out `ls data/`, try typing `ls d` and then press the `tab` key (instead of `Enter`).  The rest of the folder name should just appear.  If you have two files of directories with simiar names (e.g. `SRR13882963.sorted.bam` and `SRR13882963.bam`) then you might need to give your terminal a bit of a hand to work out which one you want.  In this case you would type `ls -l S`, when you press `tab` the terminal would read `ls -l SRR13882963`, you could then type `.so` followed by another `tab` and it would work out that you meant `SRR13882963.sorted.bam`"
   ]
  },
  {
   "cell_type": "markdown",
   "metadata": {},
   "source": [
    "## File permissions\n",
    "\n",
    "Every file and directory have a set of permissions which restrict what can be done with a file or directory.\n",
    "\n",
    "* Read (r): permission to read from a file/directory\n",
    "* Write (w): permission to modify a file/directory\n",
    "* Execute (x): Tells the operating system that the file contains code for the computer to run, as opposed to a file of text which you open in a text editor.\n",
    "\n",
    "In the terminal window type:"
   ]
  },
  {
   "cell_type": "code",
   "execution_count": null,
   "metadata": {},
   "outputs": [],
   "source": [
    "ls -l"
   ]
  },
  {
   "cell_type": "markdown",
   "metadata": {},
   "source": [
    "This shows the permissions associate with each file and directory. The first set of permissions (characters 2,3,4) refer to what the owner of the file can do, the second set of permissions (5,6,7) refers to what members of the Unix group can do and the third set of permissions (8,9,10) refers to what everyone else can do."
   ]
  },
  {
   "cell_type": "markdown",
   "metadata": {},
   "source": [
    "## cd - change current working directory\n",
    "\n",
    "The command `cd` stands for change directory.\n",
    "\n",
    "The `cd` command will move you from the current working directory to another directory, in other words allow you to move up or down in the directory hierarchy. \n",
    "\n",
    "To move into the `data` directory type the following.  Note, you'll remember this more easily if you type this rather than copying and pasting.  Also remember that you can use tab completion to save typing all of it."
   ]
  },
  {
   "cell_type": "code",
   "execution_count": null,
   "metadata": {
    "scrolled": true
   },
   "outputs": [],
   "source": [
    "cd data/"
   ]
  },
  {
   "cell_type": "markdown",
   "metadata": {},
   "source": [
    "Now use the `pwd` command to check your location in the directory hierarchy and the `ls` command to list the contents of this directory.     "
   ]
  },
  {
   "cell_type": "code",
   "execution_count": null,
   "metadata": {},
   "outputs": [],
   "source": [
    "pwd   "
   ]
  },
  {
   "cell_type": "code",
   "execution_count": null,
   "metadata": {},
   "outputs": [],
   "source": [
    "ls"
   ]
  },
  {
   "cell_type": "markdown",
   "metadata": {},
   "source": [
    "You should see that at lease there are 3 files called:\n",
    "`SRR13882963_1.fastq`, `SRR13882963_2.fastq`, SRR13882963.bam; `"
   ]
  },
  {
   "cell_type": "markdown",
   "metadata": {},
   "source": [
    "## Tips\n",
    "\n",
    "There are some short cuts for referring to directories:\n",
    "\n",
    "* . Current directory (one full stop)\n",
    "* .. Directory above in the hierarchy (two full stops)\n",
    "* ~ Home directory (tilde)\n",
    "* / Root of the file system (like C:\\ in Windows)\n",
    "\n",
    "Try the following commands, what do they do?"
   ]
  },
  {
   "cell_type": "code",
   "execution_count": null,
   "metadata": {},
   "outputs": [],
   "source": [
    "ls ."
   ]
  },
  {
   "cell_type": "code",
   "execution_count": null,
   "metadata": {},
   "outputs": [],
   "source": [
    "ls .."
   ]
  },
  {
   "cell_type": "code",
   "execution_count": null,
   "metadata": {},
   "outputs": [],
   "source": [
    "ls ~"
   ]
  },
  {
   "cell_type": "markdown",
   "metadata": {},
   "source": [
    "As you may remember, `ls` will only _list_ what is in the directories. To move to the directory, you need to use `cd`. Try moving between directories a few times. "
   ]
  },
  {
   "cell_type": "markdown",
   "metadata": {},
   "source": [
    "## cp - copy a file\n",
    "\n",
    "The command `cp` stands for copy.\n",
    "\n",
    "The `cp` command will copy a file from one location to another and you will end up with two copies of the file."
   ]
  },
  {
   "cell_type": "markdown",
   "metadata": {},
   "source": [
    "To copy the file `SRR13882963_1.fastq` to a new file called `latihan/SRR13882963_1new.fastq` type:"
   ]
  },
  {
   "cell_type": "code",
   "execution_count": null,
   "metadata": {},
   "outputs": [],
   "source": [
    "cp SRR13882963_1.fastq latihan/SRR13882963_1new.fastq"
   ]
  },
  {
   "cell_type": "markdown",
   "metadata": {},
   "source": [
    "Use `ls` to check the contents of the current directory for the copied file:"
   ]
  },
  {
   "cell_type": "code",
   "execution_count": null,
   "metadata": {},
   "outputs": [],
   "source": [
    "ls"
   ]
  },
  {
   "cell_type": "markdown",
   "metadata": {},
   "source": [
    "## mv - move a file\n",
    "\n",
    "The `mv` command stand for move.\n",
    "\n",
    "The `mv` command will move a file from one location to another. This moves the file rather than copies it, therefore you end up with only one file rather than two. When using the command, the path or pathname is used to tell Unix where to find the file. You refer to files in other directories by using the list of hierarchical names separated by slashes. For example, the file called `SRR13882963_1new.fastq` in the directory `data` has the path `data/SRR13882963_1new.fastq. If no path is specified, Unix assumes that the file is in the current working directory.\n",
    "\n",
    "To move the file `SRR13882963_1new.fastq` from the `data` directory to the `latihan` directory type:"
   ]
  },
  {
   "cell_type": "code",
   "execution_count": 1,
   "metadata": {},
   "outputs": [
    {
     "name": "stdout",
     "output_type": "stream",
     "text": [
      "mv: rename data/SRR12165160_1new.fastq to latihan/SRR12165160_1new.fastq: No such file or directory\n"
     ]
    }
   ],
   "source": [
    "mv data/SRR13882963_1new.fastq latihan/SRR13882963_1new.fastq"
   ]
  },
  {
   "cell_type": "markdown",
   "metadata": {},
   "source": [
    "Use the `ls` command to check the contents of the `data` directory and the `latihan` directory to see that `SRR13882963_1new.fastq` has been moved."
   ]
  },
  {
   "cell_type": "code",
   "execution_count": null,
   "metadata": {},
   "outputs": [],
   "source": [
    "ls data"
   ]
  },
  {
   "cell_type": "code",
   "execution_count": null,
   "metadata": {},
   "outputs": [],
   "source": [
    "ls"
   ]
  },
  {
   "cell_type": "markdown",
   "metadata": {},
   "source": [
    "## rm - delete a file\n",
    "\n",
    "The command `rm` stands for remove.\n",
    "\n",
    "The `rm` command will delete a file permanently from your computer so take care!\n",
    "\n",
    "To remove the copy of the file, called `SRR13882963_1new.fastq` type:"
   ]
  },
  {
   "cell_type": "code",
   "execution_count": null,
   "metadata": {},
   "outputs": [],
   "source": [
    "rm latihan/SRR13882963_1new.fastq"
   ]
  },
  {
   "cell_type": "markdown",
   "metadata": {},
   "source": [
    "Use the `ls` command to check the contents of the current directory to see that the file `SRR13882963_1new.fastq` has been removed."
   ]
  },
  {
   "cell_type": "code",
   "execution_count": null,
   "metadata": {},
   "outputs": [],
   "source": [
    "ls"
   ]
  },
  {
   "cell_type": "markdown",
   "metadata": {},
   "source": [
    "Unfortunately there is no \"recycle bin\" on the command line to recover the file from, so you have to be careful!"
   ]
  },
  {
   "cell_type": "markdown",
   "metadata": {},
   "source": [
    "## find - find a file\n",
    "\n",
    "The `find` command can be used to find files matching a given pattern. It can be used to recursively search the directory tree for a specified name, seeking files and directories that match the given name."
   ]
  },
  {
   "cell_type": "markdown",
   "metadata": {},
   "source": [
    "To find all files in the current directory and all its subdirectories that end with the suffix gff:"
   ]
  },
  {
   "cell_type": "code",
   "execution_count": null,
   "metadata": {},
   "outputs": [],
   "source": [
    "find . -name *.fastq"
   ]
  },
  {
   "cell_type": "markdown",
   "metadata": {},
   "source": [
    "How many fastq files did you find?"
   ]
  },
  {
   "cell_type": "markdown",
   "metadata": {},
   "source": [
    "To find all the subdirectories contained in the current directory type:"
   ]
  },
  {
   "cell_type": "code",
   "execution_count": null,
   "metadata": {},
   "outputs": [],
   "source": [
    "find . -type d"
   ]
  },
  {
   "cell_type": "markdown",
   "metadata": {},
   "source": [
    "How many subdirectories did you find?"
   ]
  }
 ],
 "metadata": {
  "kernelspec": {
   "display_name": "Python 3",
   "language": "python",
   "name": "python3"
  },
  "language_info": {
   "codemirror_mode": {
    "name": "ipython",
    "version": 3
   },
   "file_extension": ".py",
   "mimetype": "text/x-python",
   "name": "python",
   "nbconvert_exporter": "python",
   "pygments_lexer": "ipython3",
   "version": "3.8.5"
  }
 },
 "nbformat": 4,
 "nbformat_minor": 4
}
